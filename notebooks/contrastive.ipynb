{
 "cells": [
  {
   "cell_type": "code",
   "execution_count": 8,
   "metadata": {},
   "outputs": [],
   "source": [
    "import random\n",
    "\n",
    "import librosa\n",
    "import numpy as np\n",
    "\n",
    "input_length = 44100 * 5\n",
    "\n",
    "sample_rate = 44100\n",
    "\n",
    "n_mels = 64\n"
   ]
  },
  {
   "cell_type": "code",
   "execution_count": 48,
   "metadata": {},
   "outputs": [],
   "source": [
    "def pre_process_audio_mel_t(audio, sample_rate=44100):\n",
    "    mel_spec = librosa.feature.melspectrogram(y=audio, sr=sample_rate, n_mels=n_mels)\n",
    "    mel_db = (librosa.power_to_db(mel_spec, ref=np.max) + 40) / 40\n",
    "\n",
    "    return mel_db.T"
   ]
  },
  {
   "cell_type": "code",
   "execution_count": 49,
   "metadata": {},
   "outputs": [],
   "source": [
    "def load_audio_file(file_path, input_length=input_length):\n",
    "    try:\n",
    "        data = librosa.core.load(file_path, sr=44100)[0]  # , sr=16000\n",
    "    except ZeroDivisionError:\n",
    "        data = []\n",
    "\n",
    "    # if len(data) > input_length:\n",
    "\n",
    "    #     max_offset = len(data) - input_length\n",
    "\n",
    "    #     offset = np.random.randint(max_offset)\n",
    "\n",
    "    #     data = data[offset : (input_length + offset)]\n",
    "\n",
    "    # else:\n",
    "    #     if input_length > len(data):\n",
    "    #         max_offset = input_length - len(data)\n",
    "\n",
    "    #         offset = np.random.randint(max_offset)\n",
    "    #     else:\n",
    "    #         offset = 0\n",
    "\n",
    "    #     data = np.pad(data, (offset, input_length - len(data) - offset), \"constant\")\n",
    "\n",
    "    data = pre_process_audio_mel_t(data)\n",
    "    return data"
   ]
  },
  {
   "cell_type": "code",
   "execution_count": 50,
   "metadata": {},
   "outputs": [],
   "source": [
    "path = '../audio_data/44100/1-137-A-32.wav'"
   ]
  },
  {
   "cell_type": "code",
   "execution_count": 51,
   "metadata": {},
   "outputs": [
    {
     "data": {
      "text/plain": [
       "(431, 64)"
      ]
     },
     "execution_count": 51,
     "metadata": {},
     "output_type": "execute_result"
    }
   ],
   "source": [
    "load_audio_file(path).shape"
   ]
  },
  {
   "cell_type": "code",
   "execution_count": 13,
   "metadata": {},
   "outputs": [],
   "source": [
    "sig, sr = librosa.load(path, sr=None)"
   ]
  },
  {
   "cell_type": "code",
   "execution_count": 17,
   "metadata": {},
   "outputs": [
    {
     "data": {
      "text/plain": [
       "5.0"
      ]
     },
     "execution_count": 17,
     "metadata": {},
     "output_type": "execute_result"
    }
   ],
   "source": [
    "sig.shape[0]/sr"
   ]
  },
  {
   "cell_type": "code",
   "execution_count": 16,
   "metadata": {},
   "outputs": [
    {
     "data": {
      "text/plain": [
       "44100"
      ]
     },
     "execution_count": 16,
     "metadata": {},
     "output_type": "execute_result"
    }
   ],
   "source": [
    "sr"
   ]
  },
  {
   "cell_type": "code",
   "execution_count": null,
   "metadata": {},
   "outputs": [],
   "source": []
  }
 ],
 "metadata": {
  "kernelspec": {
   "display_name": "environmental",
   "language": "python",
   "name": "python3"
  },
  "language_info": {
   "codemirror_mode": {
    "name": "ipython",
    "version": 3
   },
   "file_extension": ".py",
   "mimetype": "text/x-python",
   "name": "python",
   "nbconvert_exporter": "python",
   "pygments_lexer": "ipython3",
   "version": "3.10.6"
  }
 },
 "nbformat": 4,
 "nbformat_minor": 2
}
